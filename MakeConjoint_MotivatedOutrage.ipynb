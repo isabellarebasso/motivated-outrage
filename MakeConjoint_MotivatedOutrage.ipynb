{
  "cells": [
    {
      "cell_type": "code",
      "execution_count": null,
      "metadata": {
        "id": "-ivDTgDSDZqm",
        "colab": {
          "base_uri": "https://localhost:8080/"
        },
        "outputId": "7ad23ff3-74a2-41ad-95fc-95b0b2724e94"
      },
      "outputs": [
        {
          "output_type": "stream",
          "name": "stdout",
          "text": [
            "Mounted at /content/drive\n"
          ]
        }
      ],
      "source": [
        "from google.colab import drive \n",
        "\n",
        "drive.mount('/content/drive')\n"
      ]
    },
    {
      "cell_type": "code",
      "execution_count": null,
      "metadata": {
        "colab": {
          "base_uri": "https://localhost:8080/",
          "height": 36
        },
        "id": "u1Bmw_aqFkFM",
        "outputId": "eb687fb1-dce9-4ebe-f16a-83785b83bf26"
      },
      "outputs": [
        {
          "output_type": "execute_result",
          "data": {
            "text/plain": [
              "'/content/drive/MyDrive/conjoint_moraloutrage'"
            ],
            "application/vnd.google.colaboratory.intrinsic+json": {
              "type": "string"
            }
          },
          "metadata": {},
          "execution_count": 4
        }
      ],
      "source": [
        "#Set WD\n",
        "\n",
        "import os\n",
        "\n",
        "os.chdir('/content/drive/MyDrive/conjoint_moraloutrage/')\n",
        "\n",
        "os.getcwd() "
      ]
    },
    {
      "cell_type": "code",
      "execution_count": null,
      "metadata": {
        "id": "oDyut0oRF_7-"
      },
      "outputs": [],
      "source": [
        "#Preamble\n",
        "from PIL import Image, ImageDraw, ImageFilter, ImageFont\n",
        "import os\n",
        "import numpy as np\n",
        "import textwrap\n",
        "import re, string\n",
        "import itertools\n",
        "import random"
      ]
    },
    {
      "cell_type": "code",
      "execution_count": null,
      "metadata": {
        "colab": {
          "base_uri": "https://localhost:8080/",
          "height": 36
        },
        "id": "2P-2g4EeGWJh",
        "outputId": "d22bee16-c2ea-4a6a-b2ac-ee182960f25e"
      },
      "outputs": [
        {
          "output_type": "execute_result",
          "data": {
            "text/plain": [
              "'/content/drive/MyDrive/conjoint_moraloutrage'"
            ],
            "application/vnd.google.colaboratory.intrinsic+json": {
              "type": "string"
            }
          },
          "metadata": {},
          "execution_count": 6
        }
      ],
      "source": [
        "script_dir = os.path.abspath('')\n",
        "script_dir\n"
      ]
    },
    {
      "cell_type": "code",
      "execution_count": null,
      "metadata": {
        "id": "AHbAf6bZJf6B"
      },
      "outputs": [],
      "source": [
        "\n",
        "tweets =  {\"inflation_neutral\": \"Inflation just reached 8.5% — a new 40-yr high. Meanwhile, real hourly earnings fell in the last year. Americans’ paychecks are worth less and less each month. This is a problem.\",\n",
        "           \"inflation_affect\": \"Scary! Inflation is now 8.5% — a worrying new high. Meanwhile, hourly earnings are falling. Americans’ paychecks are worth less each month, and people are anxious. This is terrifying.\",\n",
        "           \"inflation_moral\" : \"Shameful! Inflation is now 8.5% — a painful new high. Meanwhile, hourly earnings are falling. Americans’ paychecks are worth less each month, and people are suffering. This is outrageous.\", \n",
        "           \"formula_neutral\":\"The US has a baby formula shortage and parents across the country don’t know how to feed their babies. This is an issue that needs to be dealt with as soon as possible.\", \n",
        "           \"formula_affect\": \"This baby formula shortage is fatal. Parents are worried, and can’t feed their babies. This is horrific and an issue that needs to be addressed as soon as possible.\",\n",
        "           \"formula_moral\":\"This baby formula shortage is cruel. Parents feel abandoned, outraged, and can’t feed their babies. This is immoral and an issue that should have been addressed long ago. \",\n",
        "           \"money_neutral\" :\"There is so much money in politics! It seems like the people with the most money – not the best ideas – always win. \", \n",
        "           \"money_affect\" : \"There is so much money in politics – it’s awful and worrisome! It seems like the people with the most money – not the best ideas – always win.  So depressing.\", \n",
        "           \"money_moral\": \"There is so much money in politics – it’s harmful and damaging! It seems like the people with the most money – not the best ideas – always win.  So disgusting.\",\n",
        "           \"movie_neutral\":\"I am not sure how I feel about the new Thor movie but I’ll probably see it anyway.  There are so many of these movies though.\", \n",
        "           \"movie_affect\":\"I am not sure how I feel about the new Thor movie but I’ll probably see it anyway. There are so many of these movies though, it's scary.\",\n",
        "           \"movie_moral\": \"I am not sure how I feel about the new Thor movie but I’ll probably see it anyway.  There are too many of these movies though, it's' wrong.\",\n",
        "           \"term_neutral\": \"I think more politicians should have term limits. Some of them stay in office forever! That must have some consequences.\",\n",
        "           \"term_affect\": \"I think more politicians should have term limits. Some of them stay in office forever – it's really worrying! That must have worrying consequences.\",\n",
        "           \"term_moral\": \"I think more politicians should have term limits. Some of them stay in office forever – it's just wrong! That must have some bad consequences.\",\n",
        "           \"ukraine_neutral\": \"The US should support Ukraine to show Putin that we are willing and able to resist his expansionist ambitions.\",\n",
        "           \"ukraine_affect\": \"For the sake of our own security, the US must support Ukraine to show Putin that we are willing and able to resist his dangerous attacks.\",\n",
        "           \"ukraine_moral\": \"The US has a moral obligation to support Ukraine and to show Putin that we are willing and able to resist his unprovoked, immoral attacks.\" ,\n",
        "           \"fires_neutral\" : \"Watching as firefighters try to stop wildfire from spreading into Yosemite National Park was an important reminder of the risk to our national parks. We need to increase funding to take preventive measures.\",\n",
        "           \"fires_affect\" : \"Watching as firefighters battle to stop wildfire from spreading into Yosemite National Park was a scary reminder of the imminent danger to our national parks. We desperately need to increase funding to prevent a catastrophe.\",\n",
        "           \"fires_moral\" : \"Watching as firefighters battle to stop wildfire from spreading into Yosemite National Park was a fatal reminder of the danger to our national parks. Consistent underfunding is responsible for this cruel catastrophe.\", \n",
        "           \"gas_neutral\" :  \"Large oil companies are set to report a record-breaking profit from last quarter, while gas prices are still high.\",\n",
        "           \"gas_affect\" :  \"Large oil companies are set to report a record-breaking profit from last quarter. Meanwhile, many are still worried about high gas prices.\",\n",
        "           \"gas_moral\": \"Large oil companies are set to report a record-breaking profit from last quarter. No wonder, ordinary Americans are outraged by high gas prices.\"}\n",
        "\n",
        "\n",
        "\n",
        "movietweets = {\"movie_neutral\":\"I am not sure how I feel about the new Thor movie but I’ll probably see it anyway.  There are so many of these movies though.\", \n",
        "           \"movie_affect\":\"I am not sure how I feel about the new Thor movie but I’ll probably see it anyway. There are so many of these movies though, it's scary.\",\n",
        "           \"movie_moral\": \"I am not sure how I feel about the new Thor movie but I’ll probably see it anyway.  There are too many of these movies though, it's' wrong.\"}\n",
        "\n",
        "TweetsAbout = ['politics', 'sports', 'my pets', 'family', 'arts and culture']\n",
        "Education = ['High School graduate', 'College graduate', 'Ivy League graduate']\n",
        "Partisan = ['Democrat. ', 'Republican. ', ' ']\n",
        "\n",
        "\n",
        "\n"
      ]
    },
    {
      "cell_type": "code",
      "execution_count": null,
      "metadata": {
        "id": "sja317k7R76z"
      },
      "outputs": [],
      "source": [
        "#Generating empty Twitter profile, User 1\n",
        "img = Image.open('TwitterProfileCropped.png').convert('RGB')\n",
        "#img = Image.new(\"RGB\", (3000, 4000), (255, 255, 255))\n",
        "\n",
        "draw = ImageDraw.Draw(img)\n",
        "font_largeName = ImageFont.truetype(font= os.path.join(script_dir, \"Fonts\", \"Helvetica.ttc\"), size=72, index = 1)\n",
        "\n",
        "draw.text((61, 1079), \" \",(0,0,0),font=font_largeName)\n",
        "\n",
        "font_smallName = ImageFont.truetype(font= os.path.join(script_dir, \"Fonts\", \"Helvetica.ttc\"), size = 50)\n",
        "\n",
        "# User Name \n",
        "\n",
        "#draw.text((61, 1170),\" \",font=font_smallName, fill = \"#667786\")\n",
        "draw.text((2000, 400),\"Follow\",font=font_largeName, fill = \"#1ca1f2\")\n",
        "font_location = ImageFont.truetype(font= os.path.join(script_dir, \"Fonts\", \"Helvetica.ttc\"), size= 60, index = 1)\n",
        "#draw.text((155, 1480),\"Washington, DC\",font=font_smallName, fill = \"#667786\")\n",
        "#draw.text((646, 1480),\"sometext\",font=font_smallName, fill = \"#667786\")\n",
        "\n",
        "#Date Joined\n",
        "\n",
        "distance = 440\n",
        "\n",
        "draw.text((1411, 1500),\" \",font=font_smallName, fill = \"#667786\") \n",
        "font_tweetName = ImageFont.truetype(font= os.path.join(script_dir, \"Fonts\", \"Helvetica.ttc\"), size = 50, index = 1)\n",
        "draw.text((295, 1987),\" \",(0,0,0), font=font_tweetName)\n",
        "#draw.text((295, 1987 + distance),\" \",(0,0,0), font=font_tweetName)\n",
        "#draw.text((295, 1987 + 2*distance),\" \",(0,0,0), font=font_tweetName)\n",
        "#draw.text((295, 1987 + 3*distance),\" \",(0,0,0), font=font_tweetName)\n",
        "\n",
        "#Save Image\n",
        "img.save(os.path.join(script_dir, \"User1.png\"), dpi=(300, 300))\n",
        "\n",
        "\n",
        "\n",
        "\n"
      ]
    },
    {
      "cell_type": "code",
      "execution_count": null,
      "metadata": {
        "id": "aoJ_uUDH2rAN"
      },
      "outputs": [],
      "source": [
        "#Generate output Folder\n",
        "#os.mkdir(os.path.join(script_dir, 'results')) \n",
        "\n",
        "os.mkdir(os.path.join(script_dir, 'DemocratProfiles')) \n",
        "\n",
        "os.mkdir(os.path.join(script_dir, 'RepublicanProfiles')) \n",
        "\n"
      ]
    },
    {
      "cell_type": "code",
      "execution_count": null,
      "metadata": {
        "id": "_7DIeY5LqCJF"
      },
      "outputs": [],
      "source": [
        "#Generating Conjoint Democrats\n",
        "n_iter = 3\n",
        "\n",
        "for i in range(n_iter): \n",
        "    for tweet in tweets: \n",
        "      for education in Education:\n",
        "              im_bg = Image.open(os.path.join(script_dir,'User1.png')).convert('RGB')\n",
        "              img = im_bg\n",
        "              draw = ImageDraw.Draw(img)\n",
        "              font_largeName = ImageFont.truetype(font= os.path.join(script_dir, \"Fonts\", \"Helvetica.ttc\"), size=72, index = 1)\n",
        "              font_smallName = ImageFont.truetype(font= os.path.join(script_dir, \"Fonts\", \"Helvetica.ttc\"), size = 50)\n",
        "              following = str(np.random.randint(100,2000)) \n",
        "              followers = str(np.random.randint(100, 500))\n",
        "              comments = str(np.random.randint(5,50))\n",
        "              retweets = str(np.random.randint(5,20))\n",
        "              likes = str(np.random.randint(10,300))\n",
        "              draw.text((51, 1112), following, font = font_location, fill = \"#667786\")\n",
        "              draw.text((531, 1112), followers, font = font_location, fill = \"#667786\")\n",
        "              draw.text((386, 1745), comments ,font=font_smallName, fill = \"#667786\")\n",
        "              draw.text((790, 1745), retweets,font=font_smallName, fill = \"#667786\")\n",
        "              draw.text((1201, 1745), likes,font=font_smallName, fill = \"#667786\")\n",
        "              year = str(np.random.randint(1960,2002))\n",
        "              tweetsabout = np.random.choice(TweetsAbout, size=2, replace=False)\n",
        "              description = textwrap.wrap(\"Born in \" + year + \", Tweets about \" +  str(tweetsabout[0]) + ', ' + str(tweetsabout[1]) +  \". \"  + str(education) + \", \" +  \"Democrat.\", width=92)\n",
        "              y_text = 884\n",
        "              for line in description:\n",
        "                  width, height = font_smallName.getsize(line)\n",
        "                  draw.text((61, y_text), line, font=font_smallName, fill=\"#14161a\")\n",
        "                  y_text += height\n",
        "              font_location = ImageFont.truetype(font= os.path.join(script_dir, \"Fonts\", \"Helvetica.ttc\"), size = 60, index = 1)\n",
        "              font_tweetName = ImageFont.truetype(font= os.path.join(script_dir, \"Fonts\", \"Helvetica.ttc\"), size = 50, index = 1)\n",
        "              font_tweet = ImageFont.truetype(font= os.path.join(script_dir, \"Fonts\", \"Helvetica.ttc\"), size = 50)\n",
        "              tweettext = textwrap.wrap(tweets[tweet], width=85)\n",
        "              y_text = 1500\n",
        "              for line in tweettext:\n",
        "                  width, height = font_tweet.getsize(line)\n",
        "                  draw.text((295, y_text), line, font=font_smallName, fill=\"#14161a\")\n",
        "                  y_text += height\n",
        "              newsize = (600,500)\n",
        "              img = img.resize(newsize)\n",
        "              img_name =  'Democrat_' + str(tweet) + '_' +  str(year) + '_' + str(education) + '_' + str(tweetsabout) + '_' + str(following) + '_' + str(followers) + '_' + str(comments) + '_' + str(retweets) + '_' + str(likes) +'.png'\n",
        "              img_name = re.sub(\"[ ,]\", \"\", img_name)\n",
        "              img.save(os.path.join(script_dir, \"DemocratProfiles\", img_name), dpi=(600, 600))\n",
        "                                \n",
        "\n"
      ]
    },
    {
      "cell_type": "code",
      "execution_count": null,
      "metadata": {
        "id": "MXlpg8bx4sof"
      },
      "outputs": [],
      "source": [
        "\n",
        "#Generating Conjoint Republicans\n",
        "\n",
        "n_iter = 3\n",
        "\n",
        "for i in range(n_iter): \n",
        "    for tweet in tweets: \n",
        "      for education in Education:\n",
        "              im_bg = Image.open(os.path.join(script_dir,'User1.png')).convert('RGB')\n",
        "              img = im_bg\n",
        "              draw = ImageDraw.Draw(img)\n",
        "              font_largeName = ImageFont.truetype(font= os.path.join(script_dir, \"Fonts\", \"Helvetica.ttc\"), size=72, index = 1)\n",
        "              font_smallName = ImageFont.truetype(font= os.path.join(script_dir, \"Fonts\", \"Helvetica.ttc\"), size = 50)\n",
        "              following = str(np.random.randint(100,2000)) \n",
        "              followers = str(np.random.randint(100, 500))\n",
        "              comments = str(np.random.randint(5,50))\n",
        "              retweets = str(np.random.randint(5,20))\n",
        "              likes = str(np.random.randint(10,300))\n",
        "              draw.text((51, 1112), following, font = font_location, fill = \"#667786\")\n",
        "              draw.text((531, 1112), followers, font = font_location, fill = \"#667786\")\n",
        "              draw.text((386, 1745), comments ,font=font_smallName, fill = \"#667786\")\n",
        "              draw.text((790, 1745), retweets,font=font_smallName, fill = \"#667786\")\n",
        "              draw.text((1201, 1745), likes,font=font_smallName, fill = \"#667786\")\n",
        "              year = str(np.random.randint(1960,2002))\n",
        "              tweetsabout = np.random.choice(TweetsAbout, size=2, replace=False)\n",
        "              description = textwrap.wrap(\"Born in \" + year + \", Tweets about \" +  str(tweetsabout[0]) + ', ' + str(tweetsabout[1]) +  \". \"  + str(education) + \", \" +  \"Republican.\", width=92)\n",
        "              y_text = 884\n",
        "              for line in description:\n",
        "                  width, height = font_smallName.getsize(line)\n",
        "                  draw.text((61, y_text), line, font=font_smallName, fill=\"#14161a\")\n",
        "                  y_text += height\n",
        "              font_location = ImageFont.truetype(font= os.path.join(script_dir, \"Fonts\", \"Helvetica.ttc\"), size = 60, index = 1)\n",
        "              font_tweetName = ImageFont.truetype(font= os.path.join(script_dir, \"Fonts\", \"Helvetica.ttc\"), size = 50, index = 1)\n",
        "              font_tweet = ImageFont.truetype(font= os.path.join(script_dir, \"Fonts\", \"Helvetica.ttc\"), size = 50)\n",
        "              tweettext = textwrap.wrap(tweets[tweet], width=85)\n",
        "              y_text = 1500\n",
        "              for line in tweettext:\n",
        "                  width, height = font_tweet.getsize(line)\n",
        "                  draw.text((295, y_text), line, font=font_smallName, fill=\"#14161a\")\n",
        "                  y_text += height\n",
        "              newsize = (600,500)\n",
        "              img = img.resize(newsize)\n",
        "              img_name =  'Republican_' + str(tweet) + '_' +  str(year) + '_' + str(education) + '_'  +  str(tweetsabout) + '_' + str(following) + '_' + str(followers) + '_' + str(comments) + '_' + str(retweets) + '_' + str(likes) +'.png'\n",
        "              img_name = re.sub(\"[ ,]\", \"\", img_name)\n",
        "              img.save(os.path.join(script_dir, \"RepublicanProfiles\", img_name), dpi=(600, 600))\n",
        "\n"
      ]
    }
  ],
  "metadata": {
    "colab": {
      "name": "MakeConjoint_MotivatedOutrage.ipynb",
      "provenance": []
    },
    "kernelspec": {
      "display_name": "Python 3",
      "name": "python3"
    },
    "language_info": {
      "name": "python"
    }
  },
  "nbformat": 4,
  "nbformat_minor": 0
}